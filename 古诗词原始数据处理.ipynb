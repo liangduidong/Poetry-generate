{
 "cells": [
  {
   "cell_type": "code",
   "execution_count": 1,
   "id": "94c0b753-a7b8-444b-9ab2-153c1a4ddf7b",
   "metadata": {},
   "outputs": [],
   "source": [
    "# 定义需要过滤的特殊符号或字符模式\n",
    "data_path = \"./data/poetry.txt\"  # 数据集路径\n",
    "max_length = 48   # 设定单行诗的最大长度"
   ]
  },
  {
   "cell_type": "code",
   "execution_count": 2,
   "id": "9b143db5-74a4-4941-ba8e-820eaa260773",
   "metadata": {},
   "outputs": [],
   "source": [
    "from datasets import Dataset, DatasetDict\n",
    "# 制作数据集\n",
    "def make_dataset(data_path, max_length):\n",
    "    # 初始化存储诗歌和标题的列表\n",
    "    poetry = []  # 一首诗对应一个列表的元素\n",
    "    titles = []  # 一首诗对应的标题\n",
    "\n",
    "    with open(data_path, 'r', encoding='utf-8') as f:  # 按行读取文件数据，一行就是一首诗\n",
    "        lines = f.readlines()\n",
    "\n",
    "    for line in lines:\n",
    "        fields = line.split(\"》\")  # 利用正则表达式拆分标题和内容\n",
    "        if len(fields) != 2:  # 每行拆分后如果不是两项，就跳过该异常数据\n",
    "            continue\n",
    "    \n",
    "        content = fields[1].replace(' ', '')  # 提取诗词内容,去除空格\n",
    "        content = content.replace('\\n', '') # 去掉换行符\n",
    "        title = fields[0].replace(\"《\", '').replace(' ', '')  # 去掉书名号和无效空格\n",
    "        # 去掉超长古诗\n",
    "        if len(content) > max_length:\n",
    "            continue\n",
    "        poetry.append(content)  # 将诗词添加到列表里，每行一首\n",
    "        titles.append(title)\n",
    "    length = len(titles)\n",
    "    print(f\"总共有{length}首古诗\")\n",
    "\n",
    "    # 划分数据集\n",
    "    print(f\"数据集大小: {length}\")\n",
    "\n",
    "    dataset_dict = {'titles': titles, 'poetry': poetry}\n",
    "\n",
    "    # 创建 Dataset 对象\n",
    "    dataset = Dataset.from_dict(dataset_dict)\n",
    "\n",
    "    # 保存到磁盘\n",
    "    dataset.save_to_disk(\"./data/data\")\n",
    "    print(\"数据集已保存到 ./data/data\")\n",
    "    return poetry"
   ]
  },
  {
   "cell_type": "code",
   "execution_count": 3,
   "id": "182b0837-b985-4f46-bdc9-dcd95d4f4f0e",
   "metadata": {},
   "outputs": [],
   "source": [
    "# 制作字典\n",
    "import json\n",
    "def make_vocab(poetry):\n",
    "    # 构建字符到ID的映射\n",
    "    char_to_id = {'<PAD>':0, '<UNK>':1, '<SOS>':2, '<EOS>':3}\n",
    "    for sentence in poetry:\n",
    "        for char in sentence:\n",
    "            if char not in char_to_id:\n",
    "                char_to_id[char] = len(char_to_id)\n",
    "    # 构建ID到字符的映射\n",
    "    id_to_char = {v: k for k, v in char_to_id.items()}\n",
    "    print(\"字典长度: %d\"%(len(char_to_id)))\n",
    "    \n",
    "    # 保存词汇表到文件\n",
    "    vocab = {'char_to_id': char_to_id, 'id_to_char': id_to_char}\n",
    "    vocab_path = \"./data/vocab.json\"\n",
    "    with open(vocab_path, 'w', encoding='utf-8') as f:\n",
    "        json.dump(vocab, f, ensure_ascii=False, indent=4)\n",
    "\n",
    "    print(f\"词汇表已保存到 {vocab_path}\")"
   ]
  },
  {
   "cell_type": "code",
   "execution_count": 4,
   "id": "f18135d3-d60f-41e8-a150-cb3b48856d1b",
   "metadata": {},
   "outputs": [
    {
     "name": "stdout",
     "output_type": "stream",
     "text": [
      "总共有182384首古诗\n",
      "数据集大小: 182384\n"
     ]
    },
    {
     "data": {
      "application/vnd.jupyter.widget-view+json": {
       "model_id": "be19725a92e14b49a6b017ea761ccaab",
       "version_major": 2,
       "version_minor": 0
      },
      "text/plain": [
       "Saving the dataset (0/1 shards):   0%|          | 0/182384 [00:00<?, ? examples/s]"
      ]
     },
     "metadata": {},
     "output_type": "display_data"
    },
    {
     "name": "stdout",
     "output_type": "stream",
     "text": [
      "数据集已保存到 ./data/data\n",
      "字典长度: 9090\n",
      "词汇表已保存到 ./data/vocab.json\n"
     ]
    }
   ],
   "source": [
    "# 开始制作\n",
    "poetry = make_dataset(data_path, max_length)\n",
    "make_vocab(poetry)"
   ]
  }
 ],
 "metadata": {
  "kernelspec": {
   "display_name": "Python 3 (ipykernel)",
   "language": "python",
   "name": "python3"
  },
  "language_info": {
   "codemirror_mode": {
    "name": "ipython",
    "version": 3
   },
   "file_extension": ".py",
   "mimetype": "text/x-python",
   "name": "python",
   "nbconvert_exporter": "python",
   "pygments_lexer": "ipython3",
   "version": "3.9.16"
  }
 },
 "nbformat": 4,
 "nbformat_minor": 5
}
